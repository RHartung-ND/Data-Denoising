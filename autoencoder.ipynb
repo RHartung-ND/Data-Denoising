{
 "cells": [
  {
   "cell_type": "code",
   "execution_count": null,
   "metadata": {},
   "outputs": [],
   "source": [
    "import torch.utils.data\n",
    "from torchvision import datasets, transforms\n",
    "import numpy as np\n",
    "import pandas as pd\n",
    "import matplotlib.pyplot as plt\n",
    "from torch import nn, optim\n",
    "\n",
    "device = 'cuda' if torch.cuda.is_available() else 'cpu'\n"
   ]
  },
  {
   "cell_type": "code",
   "execution_count": null,
   "metadata": {},
   "outputs": [],
   "source": [
    "transform = transforms.Compose(\n",
    "    [transforms.ToTensor(), transforms.Normalize(0, 1)])\n",
    "# Load the MNIST dataset\n",
    "mnist_dataset_train = datasets.MNIST(\n",
    "    root='./sample_data/', train=True, download=True, transform=transform)\n",
    "# Load the test MNIST dataset\n",
    "mnist_dataset_test = datasets.MNIST(\n",
    "    root='./data', train=False, download=True, transform=transform)\n",
    "\n",
    "batch_size = 128\n",
    "train_loader = torch.utils.data.DataLoader(\n",
    "    mnist_dataset_train, batch_size=batch_size, shuffle=True)\n",
    "test_loader = torch.utils.data.DataLoader(\n",
    "    mnist_dataset_test, batch_size=5, shuffle=False)\n"
   ]
  },
  {
   "cell_type": "code",
   "execution_count": 3,
   "metadata": {},
   "outputs": [],
   "source": [
    "class DAE(nn.Module):\n",
    "    def __init__(self):\n",
    "        super().__init__()\n",
    "\n",
    "        self.fc1 = nn.Linear(784, 512)\n",
    "        self.fc2 = nn.Linear(512, 256)\n",
    "        self.fc3 = nn.Linear(256, 128)\n",
    "\n",
    "        self.fc4 = nn.Linear(128, 256)\n",
    "        self.fc5 = nn.Linear(256, 512)\n",
    "        self.fc6 = nn.Linear(512, 784)\n",
    "\n",
    "        self.relu = nn.ReLU()\n",
    "        self.sigmoid = nn.Sigmoid()\n",
    "\n",
    "    def encode(self, x):\n",
    "\n",
    "        h1 = self.relu(self.fc1(x))\n",
    "        h2 = self.relu(self.fc2(h1))\n",
    "        return self.relu(self.fc3(h2))\n",
    "\n",
    "    def decode(self, z):\n",
    "        h4 = self.relu(self.fc4(z))\n",
    "        h5 = self.relu(self.fc5(h4))\n",
    "        return self.sigmoid(self.fc6(h5))\n",
    "\n",
    "    def forward(self, x):\n",
    "        q = self.encode(x.view(-1, 784))\n",
    "\n",
    "        return self.decode(q)\n"
   ]
  },
  {
   "cell_type": "code",
   "execution_count": null,
   "metadata": {},
   "outputs": [],
   "source": [
    "def train(epoch, model, train_loader, optimizer,  cuda=True):\n",
    "    model.train()\n",
    "    train_loss = 0\n",
    "    for batch_idx, (data, _) in enumerate(train_loader):\n",
    "        data.to(device)\n",
    "        optimizer.zero_grad()\n",
    "\n",
    "        data_noise = torch.randn(data.shape).to(device)\n",
    "        data_noise = data + data_noise\n",
    "\n",
    "        recon_batch = model(data_noise.to(device))\n",
    "        loss = criterion(recon_batch, data.view(data.size(0), -1).to(device))\n",
    "        loss.backward()\n",
    "\n",
    "        train_loss += loss.item() * len(data)\n",
    "        optimizer.step()\n",
    "\n",
    "        if batch_idx % 100 == 0:\n",
    "            print('Train Epoch: {} [{}/{} ({:.0f}%)]\\tLoss: {:.6f}'.format(epoch, batch_idx * len(data), len(train_loader.dataset),\n",
    "                                                                           100. * batch_idx /\n",
    "                                                                           len(train_loader),\n",
    "                                                                           loss.item()))\n",
    "\n",
    "    print('====&gt; Epoch: {} Average loss: {:.4f}'.format(\n",
    "        epoch, train_loss / len(train_loader.dataset)))\n"
   ]
  },
  {
   "cell_type": "code",
   "execution_count": null,
   "metadata": {},
   "outputs": [],
   "source": [
    "epochs = 10\n",
    "\n",
    "model = DAE().to(device)\n",
    "optimizer = optim.Adam(model.parameters(), lr=1e-2)\n",
    "criterion = nn.MSELoss()\n"
   ]
  },
  {
   "cell_type": "code",
   "execution_count": null,
   "metadata": {},
   "outputs": [],
   "source": [
    "for epoch in range(1, epochs + 1):\n",
    "    train(epoch, model, train_loader, optimizer, True)\n"
   ]
  },
  {
   "cell_type": "code",
   "execution_count": null,
   "metadata": {},
   "outputs": [],
   "source": [
    "for batch_idx, (data, labels) in enumerate(test_loader):\n",
    "    data.to(device)\n",
    "    optimizer.zero_grad()\n",
    "\n",
    "    data_noise = torch.randn(data.shape).to(device)\n",
    "    data_noise = data + data_noise\n",
    "\n",
    "    recon_batch = model(data_noise.to(device))\n",
    "    break\n",
    "\n",
    "\n",
    "plt.figure(figsize=(20, 12))\n",
    "for i in range(5):\n",
    "\n",
    "    print(\"Image {i} with label {labels[i]}\", end='')\n",
    "    plt.subplot(3, 5, 1+i)\n",
    "    plt.imshow(data_noise[i, :, :, :].view(\n",
    "        28, 28).detach().numpy(), cmap='binary')\n",
    "    plt.subplot(3, 5, 6+i)\n",
    "    plt.imshow(recon_batch[i, :].view(28, 28).detach().numpy(), cmap='binary')\n",
    "    plt.axis('off')\n",
    "    plt.subplot(3, 5, 11+i)\n",
    "    plt.imshow(data[i, :, :, :].view(28, 28).detach().numpy(), cmap='binary')\n",
    "    plt.axis('off')\n",
    "plt.show()\n"
   ]
  }
 ],
 "metadata": {
  "kernelspec": {
   "display_name": "venv",
   "language": "python",
   "name": "python3"
  },
  "language_info": {
   "codemirror_mode": {
    "name": "ipython",
    "version": 3
   },
   "file_extension": ".py",
   "mimetype": "text/x-python",
   "name": "python",
   "nbconvert_exporter": "python",
   "pygments_lexer": "ipython3",
   "version": "3.10.11"
  }
 },
 "nbformat": 4,
 "nbformat_minor": 2
}
